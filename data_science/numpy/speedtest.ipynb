{
 "cells": [
  {
   "cell_type": "code",
   "execution_count": 3,
   "id": "54360a95-673b-4f16-8506-7ecb1a141f44",
   "metadata": {},
   "outputs": [
    {
     "name": "stdout",
     "output_type": "stream",
     "text": [
      "[0, 2, 4, 6, 8, 10, 12, 14, 16, 18]\n",
      "time taken by list  0.17963385581970215\n",
      "\n",
      "[ 0  2  4  6  8 10 12 14 16 18]\n",
      "time taken by numpy  0.04935193061828613\n"
     ]
    }
   ],
   "source": [
    "import numpy as np\n",
    "import time \n",
    "\n",
    "size = 10000000\n",
    "\n",
    "# using python list \n",
    "\n",
    "l1 = list(range(size))\n",
    "l2 = list(range(size))\n",
    "\n",
    "start = time.time()\n",
    "add = [ x+y for x,y in zip(l1,l2) ]\n",
    "end = time.time()\n",
    "print(add[0:10])\n",
    "\n",
    "print(\"time taken by list \",end - start)\n",
    "print()\n",
    "#using numpy arrayy\n",
    "\n",
    "n1 = np.array(list(range(size)))\n",
    "n2 = np.array(list(range(size)))\n",
    "\n",
    "start = time.time()\n",
    "add = n1 + n2\n",
    "end = time.time()\n",
    "print(add[0:10])\n",
    "print(\"time taken by numpy \", end - start )"
   ]
  },
  {
   "cell_type": "code",
   "execution_count": 9,
   "id": "963b1a2f-f96d-4e3f-a757-faa72d83982f",
   "metadata": {},
   "outputs": [
    {
     "name": "stdout",
     "output_type": "stream",
     "text": [
      "[1 2 3 4]\n"
     ]
    }
   ],
   "source": [
    "a= np.array([1,2,3,4])\n",
    "print(a)"
   ]
  }
 ],
 "metadata": {
  "kernelspec": {
   "display_name": "Python [conda env:base] *",
   "language": "python",
   "name": "conda-base-py"
  },
  "language_info": {
   "codemirror_mode": {
    "name": "ipython",
    "version": 3
   },
   "file_extension": ".py",
   "mimetype": "text/x-python",
   "name": "python",
   "nbconvert_exporter": "python",
   "pygments_lexer": "ipython3",
   "version": "3.12.7"
  }
 },
 "nbformat": 4,
 "nbformat_minor": 5
}
