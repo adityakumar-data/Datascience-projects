{
 "cells": [
  {
   "cell_type": "code",
   "execution_count": 4,
   "id": "b3969ff9-5812-4db6-a590-a14c3ee00472",
   "metadata": {},
   "outputs": [],
   "source": [
    "import numpy as np"
   ]
  },
  {
   "cell_type": "code",
   "execution_count": 6,
   "id": "3e34c61d-e479-4f86-93cf-0517a75a3d7b",
   "metadata": {},
   "outputs": [
    {
     "name": "stdout",
     "output_type": "stream",
     "text": [
      "[1 2 3 4]\n"
     ]
    }
   ],
   "source": [
    "arr = np.array([1,2,3,4])\n",
    "print(arr)"
   ]
  },
  {
   "cell_type": "code",
   "execution_count": 24,
   "id": "0a01c952-14b1-4b57-ac86-cb1f7ca7924e",
   "metadata": {},
   "outputs": [
    {
     "name": "stdout",
     "output_type": "stream",
     "text": [
      "[0. 0. 0. 0. 0.]\n",
      "\n",
      "[[0. 0. 0. 0. 0.]\n",
      " [0. 0. 0. 0. 0.]\n",
      " [0. 0. 0. 0. 0.]]\n",
      "\n",
      "[1. 1. 1. 1. 1.]\n",
      "\n",
      "[[1. 1. 1. 1. 1.]\n",
      " [1. 1. 1. 1. 1.]\n",
      " [1. 1. 1. 1. 1.]]\n"
     ]
    }
   ],
   "source": [
    "\n",
    "a = np.zeros(5)\n",
    "print(a)\n",
    "\n",
    "print()\n",
    "\n",
    "a = np.zeros((3,5))\n",
    "print(a)\n",
    "\n",
    "print()\n",
    "b = np.ones(5)\n",
    "print(b)\n",
    "\n",
    "print()\n",
    "\n",
    "b = np.ones((3,5))\n",
    "print(b)"
   ]
  },
  {
   "cell_type": "code",
   "execution_count": 30,
   "id": "e4d4cf7a-0c46-4559-a360-564477753f59",
   "metadata": {},
   "outputs": [
    {
     "name": "stdout",
     "output_type": "stream",
     "text": [
      "[[7 7 7 7 7]\n",
      " [7 7 7 7 7]\n",
      " [7 7 7 7 7]]\n"
     ]
    }
   ],
   "source": [
    "# if i want to print another number so we have to use full()\n",
    "c = np.full((3,5),7)\n",
    "print(c)"
   ]
  },
  {
   "cell_type": "code",
   "execution_count": 40,
   "id": "7ccf6585-8ebe-4c8a-b460-474402707b1e",
   "metadata": {},
   "outputs": [
    {
     "name": "stdout",
     "output_type": "stream",
     "text": [
      "[[1. 0. 0.]\n",
      " [0. 1. 0.]\n",
      " [0. 0. 1.]]\n",
      "\n",
      "[ 1 21 41 61 81]\n",
      "\n",
      "[0.   0.25 0.5  0.75 1.  ]\n"
     ]
    }
   ],
   "source": [
    "d = np.eye(3) # identity matrix \n",
    "print(d)\n",
    "print()\n",
    "\n",
    "e = np.arange(1,100,20)\n",
    "print(e)\n",
    "print()\n",
    "\n",
    "f = np.linspace(0,1,5)   # it divide equally in 5 elements\n",
    "print(f)"
   ]
  },
  {
   "cell_type": "code",
   "execution_count": 44,
   "id": "b18da925-588f-4fc5-8d0d-85f6ea6a2cb6",
   "metadata": {},
   "outputs": [
    {
     "data": {
      "text/plain": [
       "array([[1, 2, 3],\n",
       "       [4, 5, 6],\n",
       "       [7, 8, 9],\n",
       "       [3, 2, 1]])"
      ]
     },
     "execution_count": 44,
     "metadata": {},
     "output_type": "execute_result"
    }
   ],
   "source": [
    "my_arr = np.array([[1,2,3],[4,5,6],[7,8,9],[3,2,1]])\n",
    "my_arr"
   ]
  },
  {
   "cell_type": "code",
   "execution_count": 52,
   "id": "d84d4d94-3ee7-4d6f-8290-f79e892b0302",
   "metadata": {},
   "outputs": [
    {
     "name": "stdout",
     "output_type": "stream",
     "text": [
      "(4, 3)\n",
      "12\n",
      "2\n",
      "int64\n"
     ]
    }
   ],
   "source": [
    "# checking array properties \n",
    "\n",
    "print(my_arr.shape)\n",
    "print(my_arr.size)\n",
    "print(my_arr.ndim)\n",
    "print(my_arr.dtype)\n"
   ]
  },
  {
   "cell_type": "code",
   "execution_count": 60,
   "id": "2e70c901-5f09-4fd2-915d-7a92d7b8f6e1",
   "metadata": {},
   "outputs": [
    {
     "name": "stdout",
     "output_type": "stream",
     "text": [
      "[[1. 2. 3.]\n",
      " [4. 5. 6.]\n",
      " [7. 8. 9.]\n",
      " [3. 2. 1.]]\n",
      "\n",
      "[[1 2 3]\n",
      " [4 5 6]\n",
      " [7 8 9]\n",
      " [3 2 1]]\n"
     ]
    }
   ],
   "source": [
    "# changing data type\n",
    "my_arr = np.array([[1,2,3],[4,5,6],[7,8,9],[3,2,1]], dtype='float64') # explicit type \n",
    "print(my_arr)\n",
    "print()\n",
    "\n",
    "n = my_arr.astype(np.int64)\n",
    "print(n)"
   ]
  },
  {
   "cell_type": "code",
   "execution_count": 68,
   "id": "44ba43df-3920-419f-a2d2-6a57e1148ba3",
   "metadata": {},
   "outputs": [
    {
     "name": "stdout",
     "output_type": "stream",
     "text": [
      "[[1. 2. 3.]\n",
      " [4. 5. 6.]\n",
      " [7. 8. 9.]\n",
      " [3. 2. 1.]]\n",
      "(4, 3)\n",
      "\n",
      "[[1. 2. 3. 4. 5. 6.]\n",
      " [7. 8. 9. 3. 2. 1.]]\n",
      "\n",
      "[1. 2. 3. 4. 5. 6. 7. 8. 9. 3. 2. 1.]\n"
     ]
    }
   ],
   "source": [
    "print(my_arr)\n",
    "print(my_arr.shape)\n",
    "\n",
    "print()\n",
    "\n",
    "reshaped = my_arr.reshape((2,6))   # by this we can reshape our array \n",
    "print(reshaped)\n",
    "\n",
    "print()\n",
    "\n",
    "print(my_arr.flatten())  # convert into 1d array "
   ]
  }
 ],
 "metadata": {
  "kernelspec": {
   "display_name": "Python [conda env:base] *",
   "language": "python",
   "name": "conda-base-py"
  },
  "language_info": {
   "codemirror_mode": {
    "name": "ipython",
    "version": 3
   },
   "file_extension": ".py",
   "mimetype": "text/x-python",
   "name": "python",
   "nbconvert_exporter": "python",
   "pygments_lexer": "ipython3",
   "version": "3.12.7"
  }
 },
 "nbformat": 4,
 "nbformat_minor": 5
}
